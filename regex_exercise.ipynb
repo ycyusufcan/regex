{
 "cells": [
  {
   "cell_type": "code",
   "execution_count": 9,
   "id": "9dcac987",
   "metadata": {},
   "outputs": [],
   "source": [
    "import re"
   ]
  },
  {
   "cell_type": "code",
   "execution_count": 10,
   "id": "476920ac",
   "metadata": {},
   "outputs": [],
   "source": [
    "text ='''\n",
    "Born\tBarack Hussein Obama II\n",
    "August 4, 1961 (age 60)\n",
    "Honolulu, Hawaii, U.S.\n",
    "Political party\tDemocratic\n",
    "Spouse(s)\tMichelle Robinson ​(m. 1992)​\n",
    "Children\t\n",
    "MaliaSasha\n",
    "Parent(s)\t\n",
    "Barack Obama Sr.\n",
    "Ann Dunham\n",
    "Relatives\tFamily of Barack Obama\n",
    "Residence(s)\tKalorama (Washington, D.C.)\n",
    "Education\tPunahou School\n",
    "Alma mater\t\n",
    "Columbia University (BA)\n",
    "Harvard University (JD)\n",
    "Occupation\t\n",
    "Politicianlawyerauthor\n",
    "Awards\tList of honors and awards\n",
    "'''"
   ]
  },
  {
   "cell_type": "code",
   "execution_count": 15,
   "id": "e40d3de6",
   "metadata": {},
   "outputs": [],
   "source": [
    "### get the name"
   ]
  },
  {
   "cell_type": "code",
   "execution_count": 14,
   "id": "81ff081c",
   "metadata": {},
   "outputs": [
    {
     "data": {
      "text/plain": [
       "'Barack Hussein Obama II'"
      ]
     },
     "execution_count": 14,
     "metadata": {},
     "output_type": "execute_result"
    }
   ],
   "source": [
    "pattern = \"Born(.*)\\n\"\n",
    "\n",
    "matches = re.findall(pattern, text)\n",
    "matches[0].strip()"
   ]
  },
  {
   "cell_type": "code",
   "execution_count": 16,
   "id": "8d94c920",
   "metadata": {},
   "outputs": [],
   "source": [
    "### get the age"
   ]
  },
  {
   "cell_type": "code",
   "execution_count": 23,
   "id": "bf528cd7",
   "metadata": {},
   "outputs": [
    {
     "data": {
      "text/plain": [
       "'60'"
      ]
     },
     "execution_count": 23,
     "metadata": {},
     "output_type": "execute_result"
    }
   ],
   "source": [
    "pattern = \"age (\\d+)\"\n",
    "\n",
    "matches = re.findall(pattern, text)\n",
    "matches[0]"
   ]
  },
  {
   "cell_type": "code",
   "execution_count": 18,
   "id": "5ec340e2",
   "metadata": {},
   "outputs": [],
   "source": [
    "### get the birthdate"
   ]
  },
  {
   "cell_type": "code",
   "execution_count": 22,
   "id": "4d8365f7",
   "metadata": {},
   "outputs": [
    {
     "data": {
      "text/plain": [
       "'August 4, 1961'"
      ]
     },
     "execution_count": 22,
     "metadata": {},
     "output_type": "execute_result"
    }
   ],
   "source": [
    "pattern = \"Born.*\\n(.*)\\(\"\n",
    "\n",
    "matches = re.findall(pattern, text)\n",
    "matches[0].strip()"
   ]
  },
  {
   "cell_type": "code",
   "execution_count": null,
   "id": "42dbc23e",
   "metadata": {},
   "outputs": [],
   "source": [
    "### get the birth place"
   ]
  },
  {
   "cell_type": "code",
   "execution_count": 26,
   "id": "2df4c7e2",
   "metadata": {},
   "outputs": [
    {
     "data": {
      "text/plain": [
       "['Honolulu, Hawaii, U.S.']"
      ]
     },
     "execution_count": 26,
     "metadata": {},
     "output_type": "execute_result"
    }
   ],
   "source": [
    "pattern = \"age.*\\n(.*)\"\n",
    "\n",
    "matches = re.findall(pattern, text)\n",
    "matches"
   ]
  },
  {
   "cell_type": "code",
   "execution_count": 27,
   "id": "16ea0f4b",
   "metadata": {},
   "outputs": [],
   "source": [
    "def get_pattern_match(pattern, text):\n",
    "    matches = re.findall(pattern, text)\n",
    "    if matches:\n",
    "        return matches[0]"
   ]
  },
  {
   "cell_type": "code",
   "execution_count": 28,
   "id": "99d9a485",
   "metadata": {},
   "outputs": [
    {
     "data": {
      "text/plain": [
       "'Honolulu, Hawaii, U.S.'"
      ]
     },
     "execution_count": 28,
     "metadata": {},
     "output_type": "execute_result"
    }
   ],
   "source": [
    "get_pattern_match(\"age.*\\n(.*)\", text)"
   ]
  },
  {
   "cell_type": "code",
   "execution_count": 31,
   "id": "315de69f",
   "metadata": {},
   "outputs": [],
   "source": [
    "def get_personal_info(text):\n",
    "    age = get_pattern_match(\"age (\\d+)\", text)\n",
    "    name = get_pattern_match(\"Born(.*)\\n\", text)\n",
    "    birth_date  = get_pattern_match(\"Born.*\\n(.*)\\(\", text)\n",
    "    birth_place = get_pattern_match(\"age.*\\n(.*)\", text)\n",
    "    \n",
    "    return {\n",
    "        \"age\" : int(age),\n",
    "        \"name\": name.strip(),\n",
    "        \"birth_date\": birth_date.strip(),\n",
    "        \"birth_place\": birth_place.strip()\n",
    "        \n",
    "    }"
   ]
  },
  {
   "cell_type": "code",
   "execution_count": 32,
   "id": "59aca996",
   "metadata": {},
   "outputs": [
    {
     "data": {
      "text/plain": [
       "{'age': 60,\n",
       " 'name': 'Barack Hussein Obama II',\n",
       " 'birth_date': 'August 4, 1961',\n",
       " 'birth_place': 'Honolulu, Hawaii, U.S.'}"
      ]
     },
     "execution_count": 32,
     "metadata": {},
     "output_type": "execute_result"
    }
   ],
   "source": [
    "get_personal_info(text)"
   ]
  },
  {
   "cell_type": "code",
   "execution_count": 37,
   "id": "3b2f51e4",
   "metadata": {},
   "outputs": [],
   "source": [
    "text1 = \"\"\"\n",
    "Born\tWilliam Henry Gates III\n",
    "October 28, 1955 (age 66)\n",
    "Seattle, Washington, U.S.\n",
    "Education\tHarvard University (dropped out)\n",
    "Occupation\t\n",
    "Software developerinvestorentrepreneur\n",
    "Years active\t1972–present\n",
    "Known for\tCo-founder of Microsoft and Bill & Melinda Gates Foundation\n",
    "Title\t\n",
    "Co-chairperson of the Bill & Melinda Gates Foundation\n",
    "Chairman and founder of Branded Entertainment Network\n",
    "Chairman and founder of Cascade Investment\n",
    "Chairman and co-founder of TerraPower\n",
    "Founder of Breakthrough Energy\n",
    "Technology advisor of Microsoft[1]\n",
    "Board member of\tBerkshire Hathaway\n",
    "Microsoft (former, both)\n",
    "Spouse(s)\tMelinda French\n",
    "​\n",
    "​(m. 1994; div. 2021)​\n",
    "Children\t3\n",
    "Parents\t\n",
    "Bill Gates Sr. (father)\n",
    "Mary Maxwell (mother)\n",
    "\"\"\""
   ]
  },
  {
   "cell_type": "code",
   "execution_count": 38,
   "id": "c1eaa20d",
   "metadata": {},
   "outputs": [
    {
     "data": {
      "text/plain": [
       "{'age': 66,\n",
       " 'name': 'William Henry Gates III',\n",
       " 'birth_date': 'October 28, 1955',\n",
       " 'birth_place': 'Seattle, Washington, U.S.'}"
      ]
     },
     "execution_count": 38,
     "metadata": {},
     "output_type": "execute_result"
    }
   ],
   "source": [
    "get_personal_info(text1)"
   ]
  },
  {
   "cell_type": "code",
   "execution_count": null,
   "id": "dca85471",
   "metadata": {},
   "outputs": [],
   "source": []
  }
 ],
 "metadata": {
  "kernelspec": {
   "display_name": "cg1",
   "language": "python",
   "name": "cg1"
  },
  "language_info": {
   "codemirror_mode": {
    "name": "ipython",
    "version": 3
   },
   "file_extension": ".py",
   "mimetype": "text/x-python",
   "name": "python",
   "nbconvert_exporter": "python",
   "pygments_lexer": "ipython3",
   "version": "3.8.12"
  }
 },
 "nbformat": 4,
 "nbformat_minor": 5
}
